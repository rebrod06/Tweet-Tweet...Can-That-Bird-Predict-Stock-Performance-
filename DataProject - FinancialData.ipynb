{
 "cells": [
  {
   "cell_type": "markdown",
   "metadata": {},
   "source": [
    "# Price Stock Data\n",
    "\n",
    "As an alternative to Google Finance, and Yahoo Finance, which are no longer updated or supported, we are using Alpha Vantage, a free API for retriving real time stock prices, as our data source for the financial component of our project. \n",
    "\n",
    "We will be using stock price data for four beverage companies: Coca Cola, Pepsi, Monster Beverages, and Dr Pepper Snapple. "
   ]
  },
  {
   "cell_type": "code",
   "execution_count": 1,
   "metadata": {
    "collapsed": true
   },
   "outputs": [],
   "source": [
    "# we import the alpha vantage TimeSeries object\n",
    "# along with the other necessary libraries \n",
    "from alpha_vantage.timeseries import TimeSeries\n",
    "ts = TimeSeries(key='Q6WU3UN428X8U89G', output_format='pandas')\n",
    "import numpy as np\n",
    "import pandas as pd"
   ]
  },
  {
   "cell_type": "code",
   "execution_count": 2,
   "metadata": {
    "collapsed": true
   },
   "outputs": [],
   "source": [
    "# download stock price data\n",
    "\n",
    "coke_data = ts.get_daily(symbol = 'COKE')\n",
    "drp_data = ts.get_daily(symbol = 'DPS')\n",
    "monst_data = ts.get_daily(symbol = 'MNST')\n",
    "pepsi_data = ts.get_daily(symbol = 'PEP')"
   ]
  },
  {
   "cell_type": "code",
   "execution_count": 3,
   "metadata": {},
   "outputs": [],
   "source": [
    "# filter for last 30 days\n",
    "\n",
    "coke_stock_df = coke_data[0].tail(30).copy()\n",
    "drp_stock_df = drp_data[0].tail(30).copy()\n",
    "monst_stock_df = monst_data[0].tail(30).copy()\n",
    "pepsi_stock_df = pepsi_data[0].tail(30).copy()\n",
    "\n",
    "# determine if price increased or decreased for the day and set as binary variable\n",
    "# 1 := decrease in price\n",
    "# 0 := increase in price\n",
    "\n",
    "coke_stock_df['Dif'] = np.where(coke_stock_df['1. open'] - coke_stock_df['4. close'] >= 0, 1, 0)\n",
    "drp_stock_df['Dif'] = np.where(drp_stock_df['1. open'] - drp_stock_df['4. close'] >= 0, 1, 0)\n",
    "monst_stock_df['Dif'] = np.where(monst_stock_df['1. open'] - monst_stock_df['4. close'] >= 0, 1, 0)\n",
    "pepsi_stock_df['Dif'] = np.where(pepsi_stock_df['1. open'] - pepsi_stock_df['4. close'] >= 0, 1, 0)\n",
    "\n",
    "# we tidy our df's to only include the binary difference variable\n",
    "\n",
    "coke_price_df = coke_stock_df[['Dif']].copy()\n",
    "drp_price_df = drp_stock_df[['Dif']].copy()\n",
    "monst_price_df = monst_stock_df[['Dif']].copy()\n",
    "pepsi_price_df = pepsi_stock_df[['Dif']].copy()"
   ]
  },
  {
   "cell_type": "code",
   "execution_count": 6,
   "metadata": {
    "collapsed": true
   },
   "outputs": [],
   "source": [
    "# we write each df to a csv\n",
    "\n",
    "coke_price_df.to_csv('coke_price.csv', encoding='utf-8')\n",
    "drp_price_df.to_csv('drp_price.csv', encoding='utf-8')\n",
    "monst_price_df.to_csv('monst_price.csv', encoding='utf-8')\n",
    "pepsi_price_df.to_csv('pepsi_price.csv', encoding='utf-8')\n"
   ]
  }
 ],
 "metadata": {
  "kernelspec": {
   "display_name": "Python 3",
   "language": "python",
   "name": "python3"
  },
  "language_info": {
   "codemirror_mode": {
    "name": "ipython",
    "version": 3
   },
   "file_extension": ".py",
   "mimetype": "text/x-python",
   "name": "python",
   "nbconvert_exporter": "python",
   "pygments_lexer": "ipython3",
   "version": "3.6.3"
  }
 },
 "nbformat": 4,
 "nbformat_minor": 2
}
